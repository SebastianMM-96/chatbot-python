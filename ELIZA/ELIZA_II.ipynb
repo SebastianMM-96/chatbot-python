{
 "metadata": {
  "language_info": {
   "codemirror_mode": {
    "name": "ipython",
    "version": 3
   },
   "file_extension": ".py",
   "mimetype": "text/x-python",
   "name": "python",
   "nbconvert_exporter": "python",
   "pygments_lexer": "ipython3",
   "version": "3.8.5-final"
  },
  "orig_nbformat": 2,
  "kernelspec": {
   "name": "python3",
   "display_name": "Python 3"
  }
 },
 "nbformat": 4,
 "nbformat_minor": 2,
 "cells": [
  {
   "cell_type": "code",
   "execution_count": 1,
   "metadata": {},
   "outputs": [],
   "source": [
    "import re\n",
    "import random"
   ]
  },
  {
   "cell_type": "code",
   "execution_count": 2,
   "metadata": {},
   "outputs": [],
   "source": [
    "# Create templates\n",
    "bot_template = \"BOT : {0}\"\n",
    "user_template = \"USER : {0}\""
   ]
  },
  {
   "cell_type": "code",
   "execution_count": 3,
   "metadata": {},
   "outputs": [],
   "source": [
    "\n",
    "responses = {\n",
    "  \"questions\": [\n",
    "      \"who are you?\",\n",
    "      \"tell me about that\"\n",
    "   ],\n",
    "  \"statements\": [\n",
    "      \"I love this weather.\",\n",
    "      \"I'm happy today\"\n",
    "    ]\n",
    "}\n",
    "\n",
    "rules = {'I want (.*)': ['What would it mean if you got {0}', \n",
    "                  'Why do you want {0}', \n",
    "                  \"What's stopping you from getting {0}\"], \n",
    " 'do you think (.*)': ['if {0}? Absolutely.', 'No chance'], \n",
    " 'do you remember (.*)': ['Did you think I would forget {0}', \n",
    "                           \"Why haven't you been able to forget {0}\", \n",
    "                           'What about {0}', 'Yes .. and?'], \n",
    " 'if (.*)': [\"Do you really think it's likely that {0}\", \n",
    "              'Do you wish that {0}', \n",
    "              'What do you think about {0}', \n",
    "              'Really--if {0}']\n",
    "          }"
   ]
  },
  {
   "cell_type": "code",
   "execution_count": 4,
   "metadata": {},
   "outputs": [
    {
     "output_type": "execute_result",
     "data": {
      "text/plain": [
       "' blah'"
      ]
     },
     "metadata": {},
     "execution_count": 4
    }
   ],
   "source": [
    "\n",
    "# practice with re\n",
    "pattern = \"if(.*)\"\n",
    "message = \"what if blah\"\n",
    "match = re.search(pattern, message)\n",
    "\n",
    "match.group(0)\n",
    "# what if blah\n",
    "match.group(1)\n",
    "# blah"
   ]
  },
  {
   "cell_type": "code",
   "execution_count": 5,
   "metadata": {},
   "outputs": [
    {
     "output_type": "stream",
     "name": "stdout",
     "text": [
      "Why haven't you been able to forget your last birthday\n"
     ]
    }
   ],
   "source": [
    "# Define match_rule()\n",
    "def match_rule(rules, message):\n",
    "    response, phrase = \"default\", None\n",
    "    \n",
    "    # Iterate over the rules dictionary\n",
    "    for pattern, responses in rules.items():\n",
    "        # Create a match object\n",
    "        match = re.search(pattern, message)\n",
    "        if match is not None:\n",
    "            # Choose a random response\n",
    "            response = random.choice(responses)\n",
    "            if '{0}' in response:\n",
    "                phrase = match.group(1)\n",
    "    # Return the response and phrase\n",
    "    return response.format(phrase)\n",
    "\n",
    "# Test match_rule\n",
    "print(match_rule(rules, \"do you remember your last birthday\"))"
   ]
  },
  {
   "cell_type": "code",
   "execution_count": null,
   "metadata": {},
   "outputs": [],
   "source": []
  }
 ]
}